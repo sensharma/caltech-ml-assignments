{
 "cells": [
  {
   "cell_type": "code",
   "execution_count": 1,
   "metadata": {
    "collapsed": true
   },
   "outputs": [],
   "source": [
    "import numpy as np\n",
    "import matplotlib.pyplot as plt\n",
    "import numpy.ma as ma"
   ]
  },
  {
   "cell_type": "code",
   "execution_count": 2,
   "metadata": {
    "collapsed": true
   },
   "outputs": [],
   "source": [
    "%matplotlib inline"
   ]
  },
  {
   "cell_type": "markdown",
   "metadata": {},
   "source": [
    "- f1: pick n random points in [-1, 1] X [-1, 1] $x_1$ and $x_2$ -> use to pick 2 points\n",
    "- f2: find (w_0, w_1, w_2) s.t. $w_0 + w_1 x_1 + w_2 x_2 = 0$\n",
    "- **Note:** in f2 above, the equation is a dot product between $\\textbf{w} = (w_0, w_1, w_2)$ and $\\textbf{x} = (1, x_1, x_2)$\n",
    "- f3: draw n random points in [-1, 1] X [-1, 1] and classify them based on whether their dot prod with $\\textbf{x}$ is >0 (+1) or <0 (-1)"
   ]
  },
  {
   "cell_type": "code",
   "execution_count": 3,
   "metadata": {
    "collapsed": true
   },
   "outputs": [],
   "source": [
    "def random_point_select(n, d=2, l_range=-1, h_range=1):\n",
    "    \"\"\"\n",
    "    inputs: n, no. of points required\n",
    "    d: dimension of points\n",
    "    l_range: min value for each dimension\n",
    "    h_range: max value for each dimension\n",
    "    returns: n uniform random points of dim = d between a l_range and h_range \n",
    "    return type: numpy ndarray\n",
    "    \"\"\"\n",
    "    \n",
    "    point_list = []\n",
    "    x_n = np.random.uniform(l_range, h_range, size=(d, n))\n",
    "    return x_n"
   ]
  },
  {
   "cell_type": "code",
   "execution_count": 4,
   "metadata": {
    "collapsed": true
   },
   "outputs": [],
   "source": [
    "def random_2d_line(l_range=-1, h_range=1):\n",
    "    \"\"\"\n",
    "    inputs: l_range and h_range -> lower and higher values\n",
    "    returns: (w0, w1, w2) the params of a wt vector s.t. <w, x> is the st line. <w, x> -> dot product\n",
    "    return type: numpy ndarrays\n",
    "    \"\"\"\n",
    "    \n",
    "    points = random_point_select(2)\n",
    "    m = (points[1, 0]-points[1, 1])/(points[0, 0]-points[0, 1])\n",
    "    c = points[1, 0] - m * points[0, 0]\n",
    "    wts = np.array([c, m, -1]).reshape(3, 1)\n",
    "    # adding dummy x_0 = 1 to each point\n",
    "    points = np.insert(points, 0, 1, axis=0)\n",
    "    return points, wts"
   ]
  },
  {
   "cell_type": "code",
   "execution_count": 5,
   "metadata": {
    "collapsed": false
   },
   "outputs": [],
   "source": [
    "def classify_2d_points(n, l_range=-1, h_range=1):\n",
    "    \"\"\"\n",
    "    inputs: \n",
    "    n -> number of points to be generated and classified between l_range and h_range\n",
    "    outputs: \n",
    "    lin_points -> points generating the random line as (1, x1, x2) (2X3 ndarray)\n",
    "    cls_points -> points to be classified as (1, x1, x2) (nX3 ndarray)\n",
    "    wts -> weights (3X1 ndarray)\n",
    "    cls -> classification array with +1 or -1 (nX1 ndarray)\n",
    "    \"\"\"\n",
    "    \n",
    "    cls_points = random_point_select(n)\n",
    "    cls_points = np.insert(cls_points, 0, 1, axis=0)\n",
    "    lin_pts, wts = random_2d_line(l_range=l_range, h_range=h_range)\n",
    "    cls_vals = np.dot(wts.T, cls_points)\n",
    "    cls_lab = np.sign(cls_vals) \n",
    "    return lin_pts, cls_points, wts, cls_lab"
   ]
  },
  {
   "cell_type": "code",
   "execution_count": 56,
   "metadata": {
    "collapsed": true
   },
   "outputs": [],
   "source": [
    "def plot_2d_classification_example(n, l_range=-1, h_range=1):\n",
    "    lin_pts, cls_pts, wts, cls_lab = classify_2d_points(n)\n",
    "    \n",
    "    # plotting the 2 points that generated the line\n",
    "    plt.plot(lin_pts[1, 0], lin_pts[2, 0], 'mo')\n",
    "    plt.plot(lin_pts[1, 1], lin_pts[2, 1], 'mo')\n",
    "    \n",
    "    # plotting the line itself\n",
    "    x = np.linspace(l_range, h_range, 20).reshape(20, 1)\n",
    "    y = wts[1]*x + wts[0]         # since wts are in form [w0, w1, w2].T => c, m, -1\n",
    "    plt.plot(x, y, 'b')  \n",
    "    \n",
    "    # plotting the classification points, coloured by +1 or -1, green or red \n",
    "    plt.scatter(cls_pts[1, :], cls_pts[2, :], c=cls_lab, s=80)  \n",
    "    plt.set_cmap('gray_r')  #setting colormap to 'gray_r' reversed\n",
    "    \n",
    "    # link: list of colormaps:\n",
    "    # http://matplotlib.org/examples/color/colormaps_reference.html\n",
    "    # link: pyplot 'set_cmap()' command with reverses\n",
    "    # http://matplotlib.org/api/pyplot_summary.html?highlight=colormaps#matplotlib.pyplot.colormaps\n",
    "    \n",
    "    plt.plot() \n",
    "    \n",
    "    plt.xlim(l_range, h_range)\n",
    "    plt.ylim(l_range, h_range)\n",
    "    \n",
    "    return lin_pts, cls_pts, wts, cls_lab"
   ]
  },
  {
   "cell_type": "code",
   "execution_count": 10,
   "metadata": {
    "collapsed": false
   },
   "outputs": [],
   "source": [
    "def perceptron_learning_algo_2d(n, l_range=-1, h_range=1):\n",
    "    lp, cp, wts, c_lab = classify_2d_points(n) \n",
    "    params = np.zeros((3, 1))\n",
    "    y_lab = np.sign(np.dot(params.T, cp))     \n",
    "    \n",
    "    count = 0\n",
    "    \n",
    "    while (np.any(y_lab != c_lab)):\n",
    "        count+= 1\n",
    "        \n",
    "        # select those indices where there is a misclassification\n",
    "        misc_val, misc_pos = np.where(y_lab != c_lab)\n",
    "        \n",
    "        # select the corresponding x_vectors\n",
    "        misc_cp = cp[:, misc_pos]\n",
    "        \n",
    "        # pick one of those at random and the corresponding x_vector\n",
    "        \n",
    "        misc_x_rindex = np.random.randint(misc_pos.shape[0]) \n",
    "        misc_x_rpick = misc_cp[:, misc_x_rindex]\n",
    "        \n",
    "        # pick corresponding y\n",
    "        misc_y = c_lab[:, misc_pos]\n",
    "        y_misc_pick = misc_y[:, misc_x_rindex] \n",
    "        \n",
    "        # update params\n",
    "        params = params + (y_misc_pick * misc_x_rpick).reshape(3, 1)\n",
    "        \n",
    "        y_lab = np.sign(np.dot(params.T, cp))  \n",
    "        \n",
    "    return count, params, wts"
   ]
  },
  {
   "cell_type": "code",
   "execution_count": 120,
   "metadata": {
    "collapsed": false
   },
   "outputs": [],
   "source": [
    "def plot_perceptron_learning_algo_2d(n, l_range=-1, h_range=1):\n",
    "    lp, cp, wts, c_lab = plot_2d_classification_example(n) \n",
    "    params = np.zeros((3, 1))\n",
    "    y_lab = np.sign(np.dot(params.T, cp))     \n",
    "    \n",
    "    count = 0\n",
    "    \n",
    "    while (np.any(y_lab != c_lab)):\n",
    "        count+= 1\n",
    "        \n",
    "        # select those indices where there is a misclassification\n",
    "        misc_val, misc_pos = np.where(y_lab != c_lab)\n",
    "        \n",
    "        # select the corresponding x_vectors\n",
    "        misc_cp = cp[:, misc_pos]\n",
    "        \n",
    "        # pick one of those at random and the corresponding x_vector\n",
    "        \n",
    "        misc_x_rindex = np.random.randint(misc_pos.shape[0]) \n",
    "        misc_x_rpick = misc_cp[:, misc_x_rindex]\n",
    "        \n",
    "        # pick corresponding y\n",
    "        misc_y = c_lab[:, misc_pos]\n",
    "        y_misc_pick = misc_y[:, misc_x_rindex] \n",
    "        \n",
    "        # update params\n",
    "        params = params + (y_misc_pick * misc_x_rpick).reshape(3, 1)\n",
    "        \n",
    "        y_lab = np.sign(np.dot(params.T, cp))  \n",
    "        \n",
    "    # plotting the classifier line\n",
    "    x = np.linspace(l_range, h_range, 20).reshape(20, 1)\n",
    "    y = (-params[1]/params[2])*x + (-params[0]/params[2])   # eq: w0 + w1.x + w2.y = 0 -> y = (-w1/w2)x + (w0/w2)\n",
    "    plt.plot(x, y, 'g') \n",
    "    \n",
    "    return count, params, wts, y_lab, c_lab"
   ]
  },
  {
   "cell_type": "code",
   "execution_count": 146,
   "metadata": {
    "collapsed": false,
    "scrolled": true
   },
   "outputs": [
    {
     "data": {
      "image/png": "[encoded data removed]",
      "text/plain": [
       "<matplotlib.figure.Figure at 0x113f7b710>"
      ]
     },
     "metadata": {},
     "output_type": "display_data"
    }
   ],
   "source": [
    "iterations, h, g, y_labels, c_labels = plot_perceptron_learning_algo_2d(20)  "
   ]
  },
  {
   "cell_type": "code",
   "execution_count": 82,
   "metadata": {
    "collapsed": false
   },
   "outputs": [
    {
     "data": {
      "text/plain": [
       "array([[ 1., -1., -1.,  1.,  1.,  1.,  1., -1.,  1., -1.]])"
      ]
     },
     "execution_count": 82,
     "metadata": {},
     "output_type": "execute_result"
    }
   ],
   "source": [
    "y_labels"
   ]
  },
  {
   "cell_type": "code",
   "execution_count": 83,
   "metadata": {
    "collapsed": false
   },
   "outputs": [
    {
     "data": {
      "text/plain": [
       "array([[ 1., -1., -1.,  1.,  1.,  1.,  1., -1.,  1., -1.]])"
      ]
     },
     "execution_count": 83,
     "metadata": {},
     "output_type": "execute_result"
    }
   ],
   "source": [
    "c_labels"
   ]
  },
  {
   "cell_type": "code",
   "execution_count": 229,
   "metadata": {
    "collapsed": false
   },
   "outputs": [
    {
     "name": "stdout",
     "output_type": "stream",
     "text": [
      "0.013217870000000041\n"
     ]
    }
   ],
   "source": [
    "diff_prob = 0\n",
    "loops = 10000\n",
    "for i in range(loops):\n",
    "    \n",
    "    N = 100\n",
    "    iterations, g, h = perceptron_learning_algo_2d(N) \n",
    "\n",
    "    # print(iterations) \n",
    "\n",
    "    # x = np.linspace(-1, 1, 20).reshape(20, 1)\n",
    "    # y = (-h[1]/h[2])*x + (-h[0]/h[2])   \n",
    "    # plt.plot(x, y, 'r') \n",
    "\n",
    "    # x = np.linspace(-1, 1, 20).reshape(20, 1)\n",
    "    # y = (-g[1]/g[2])*x + (-g[0]/g[2])   \n",
    "    # plt.plot(x, y, 'm') \n",
    "\n",
    "    n = 10000\n",
    "    test_set = random_point_select(n) \n",
    "    test_set_with_dummy = np.insert(test_set, 0, 1, axis=0)\n",
    "    g_res = np.sign(np.dot(g.T, test_set_with_dummy))\n",
    "    h_res = np.sign(np.dot(h.T, test_set_with_dummy)) \n",
    "    diff_prob = diff_prob + np.count_nonzero(g_res - h_res)/n\n",
    "\n",
    "print(diff_prob/loops)\n",
    "# plt.plot(test_set[0], test_set[1], 'bo') "
   ]
  },
  {
   "cell_type": "code",
   "execution_count": null,
   "metadata": {
    "collapsed": true
   },
   "outputs": [],
   "source": []
  },
  {
   "cell_type": "code",
   "execution_count": null,
   "metadata": {
    "collapsed": true
   },
   "outputs": [],
   "source": []
  },
  {
   "cell_type": "code",
   "execution_count": null,
   "metadata": {
    "collapsed": true
   },
   "outputs": [],
   "source": []
  },
  {
   "cell_type": "code",
   "execution_count": null,
   "metadata": {
    "collapsed": true
   },
   "outputs": [],
   "source": []
  },
  {
   "cell_type": "code",
   "execution_count": null,
   "metadata": {
    "collapsed": true
   },
   "outputs": [],
   "source": []
  },
  {
   "cell_type": "code",
   "execution_count": null,
   "metadata": {
    "collapsed": true
   },
   "outputs": [],
   "source": []
  },
  {
   "cell_type": "code",
   "execution_count": null,
   "metadata": {
    "collapsed": true
   },
   "outputs": [],
   "source": []
  }
 ],
 "metadata": {
  "kernelspec": {
   "display_name": "Python 3",
   "language": "python",
   "name": "python3"
  },
  "language_info": {
   "codemirror_mode": {
    "name": "ipython",
    "version": 3
   },
   "file_extension": ".py",
   "mimetype": "text/x-python",
   "name": "python",
   "nbconvert_exporter": "python",
   "pygments_lexer": "ipython3",
   "version": "3.5.1"
  }
 },
 "nbformat": 4,
 "nbformat_minor": 0
}
